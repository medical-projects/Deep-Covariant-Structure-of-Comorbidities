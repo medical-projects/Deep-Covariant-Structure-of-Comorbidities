{
 "cells": [
  {
   "cell_type": "code",
   "execution_count": 1,
   "metadata": {},
   "outputs": [],
   "source": [
    "import pandas as pd\n",
    "import numpy as np\n",
    "import math\n",
    "import os\n",
    "from sklearn.preprocessing import MultiLabelBinarizer\n",
    "import itertools"
   ]
  },
  {
   "cell_type": "code",
   "execution_count": 2,
   "metadata": {},
   "outputs": [],
   "source": [
    "#FILEPATHS\n",
    "\n",
    "os.chdir('/Volumes/Encrypted/Deep-Covariant-Structure-of-Comorbidities/')\n",
    "\n",
    "# list of rules/key which determine how ICD-10 codes are processed\n",
    "look_up_table_raw = pd.read_csv('Preprocessing/ICD10/ICD10 Preprocessing Exceptions.csv', engine='python')\n",
    "\n",
    "# ICD codes that need to be processed\n",
    "diagnosis_code_df_raw = pd.read_csv('Preprocessing/Data/patientsIn_Anon_diagnoses_only.csv')\n",
    "\n",
    "# If previously run processed raw df and merged duplicates, import here and skip to section 2 - ICD-10 code conversion\n",
    "diagnosis_code_df_merged = pd.read_csv('Preprocessing/Data/patientsIn_Anon_diagnoses_only_duplicates_merged.csv', dtype='str') #processed version"
   ]
  },
  {
   "cell_type": "markdown",
   "metadata": {},
   "source": [
    "# 1. Tidying & merging patient ICD-10 codes df"
   ]
  },
  {
   "cell_type": "code",
   "execution_count": 3,
   "metadata": {},
   "outputs": [],
   "source": [
    "def rename_df_columns(df) -> pd.DataFrame:    \n",
    "    \"\"\"Tidying raw df of ICD-10 codes. Replace column headings with ints 0-11\"\"\"\n",
    "    \n",
    "    df = df.drop('Unnamed: 0', 1)\n",
    "    column_names_conversion = {'primarydiagnosiscode1': 0}\n",
    "    for i in range(2, 13):\n",
    "        name = 'diagnosiscode'+str(i)\n",
    "        column_names_conversion[name] = i-1\n",
    "    df = df.rename(columns=column_names_conversion).set_index('patient_id')\n",
    "    return df"
   ]
  },
  {
   "cell_type": "code",
   "execution_count": 4,
   "metadata": {},
   "outputs": [],
   "source": [
    "def merge_duplicate_patients(df) -> pd.DataFrame:\n",
    "    \"\"\"\n",
    "        Takes df of patient codes (rows) and each patient's ICD codes and merges based on duplicate patient codes\n",
    "    \"\"\"\n",
    "    duplicateIndex = df.index.duplicated(keep=False)\n",
    "    duplicatedDf = df[duplicateIndex]\n",
    "    notDuplicatedDf = df[~duplicateIndex]\n",
    "    duplicatedIds = set(duplicatedDf.index)\n",
    "    \n",
    "    duplicatedPatientDicts = []\n",
    "    for singleId in duplicatedIds:\n",
    "        codes = set(duplicatedDf.loc[singleId].values.flatten())-set([np.nan])\n",
    "        patientDict = {'patient_id': singleId}\n",
    "        patientDict.update(enumerate(codes))\n",
    "        duplicatedPatientDicts.append(patientDict)\n",
    "        \n",
    "    mergedDuplicatePatientDf = pd.DataFrame(duplicatedPatientDicts).set_index('patient_id')\n",
    "    return pd.concat([notDuplicatedDf, mergedDuplicatePatientDf])"
   ]
  },
  {
   "cell_type": "code",
   "execution_count": 11,
   "metadata": {},
   "outputs": [
    {
     "output_type": "execute_result",
     "data": {
      "text/plain": [
       "1"
      ]
     },
     "metadata": {},
     "execution_count": 11
    }
   ],
   "source": [
    "diagnosis_code_df_tidy = rename_df_columns(diagnosis_code_df_raw)\n",
    "diagnosis_code_df_merged = merge_duplicate_patients(diagnosis_code_df_tidy)\n",
    "# diagnosis_code_df_merged.to_csv('Preprocessing/Data/patientsIn_Anon_diagnoses_only_duplicates_merged.csv')"
   ]
  },
  {
   "cell_type": "markdown",
   "metadata": {},
   "source": [
    "# Section 2 - converting ICD-10 codes"
   ]
  },
  {
   "cell_type": "code",
   "execution_count": 5,
   "metadata": {},
   "outputs": [],
   "source": [
    "try:\n",
    "    diagnosis_code_df_merged = diagnosis_code_df_merged.set_index('patient_id')\n",
    "except KeyError:\n",
    "    pass #May have already been set"
   ]
  },
  {
   "cell_type": "code",
   "execution_count": 6,
   "metadata": {},
   "outputs": [],
   "source": [
    "def tidy_look_up_df(df):\n",
    "    df = df.dropna(axis=0, how='all').reset_index()\n",
    "    rename_column_map = {\"ICD10 Codes\":\"input\",\n",
    "                         \"If required, give new category name\": \"output\",\n",
    "                         \"further merging is possible: other and unspecified super categories\": \"super\"}\n",
    "    df = df.rename(columns=rename_column_map)\n",
    "    df['output'] = df['output'].str.replace('.','').str.strip()\n",
    "    df['input'] = df['input'].str.replace('.','').str.strip().str.upper()\n",
    "    df['Action'] = df['Action'].str.strip().str.lower()\n",
    "    \n",
    "    try:\n",
    "        df = df.drop(['index'], axis=1)\n",
    "    except KeyError:\n",
    "        pass #May have already been dropped\n",
    "    return df"
   ]
  },
  {
   "cell_type": "code",
   "execution_count": 7,
   "metadata": {},
   "outputs": [],
   "source": [
    "look_up_table = tidy_look_up_df(look_up_table_raw)"
   ]
  },
  {
   "cell_type": "code",
   "execution_count": 8,
   "metadata": {},
   "outputs": [],
   "source": [
    "from Preprocessing.ICD10.ICD10Converter import ICD10Converter"
   ]
  },
  {
   "cell_type": "code",
   "execution_count": 9,
   "metadata": {},
   "outputs": [],
   "source": [
    "converter = ICD10Converter(look_up_table)"
   ]
  },
  {
   "cell_type": "code",
   "execution_count": 10,
   "metadata": {},
   "outputs": [],
   "source": [
    "converted_df = converter.convert(diagnosis_code_df_merged)"
   ]
  },
  {
   "cell_type": "code",
   "execution_count": null,
   "metadata": {},
   "outputs": [],
   "source": []
  }
 ],
 "metadata": {
  "kernelspec": {
   "display_name": "Python 3.6.7 64-bit ('anaconda3': virtualenv)",
   "language": "python",
   "name": "python36764bitanaconda3virtualenv0f79be826ed747658c70c437aca8b4b6"
  },
  "language_info": {
   "codemirror_mode": {
    "name": "ipython",
    "version": 3
   },
   "file_extension": ".py",
   "mimetype": "text/x-python",
   "name": "python",
   "nbconvert_exporter": "python",
   "pygments_lexer": "ipython3",
   "version": "3.6.7-final"
  }
 },
 "nbformat": 4,
 "nbformat_minor": 2
}